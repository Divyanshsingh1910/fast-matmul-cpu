{
 "cells": [
  {
   "cell_type": "code",
   "execution_count": 1,
   "metadata": {},
   "outputs": [
    {
     "name": "stdout",
     "output_type": "stream",
     "text": [
      "Hello, World!\n"
     ]
    }
   ],
   "source": [
    "print(\"Hello, World!\")"
   ]
  },
  {
   "cell_type": "code",
   "execution_count": 2,
   "metadata": {},
   "outputs": [
    {
     "ename": "ModuleNotFoundError",
     "evalue": "No module named 'torch'",
     "output_type": "error",
     "traceback": [
      "\u001b[0;31m---------------------------------------------------------------------------\u001b[0m",
      "\u001b[0;31mModuleNotFoundError\u001b[0m                       Traceback (most recent call last)",
      "Cell \u001b[0;32mIn[2], line 1\u001b[0m\n\u001b[0;32m----> 1\u001b[0m \u001b[38;5;28;01mimport\u001b[39;00m \u001b[38;5;21;01mtorch\u001b[39;00m\n\u001b[1;32m      2\u001b[0m \u001b[38;5;28;01mimport\u001b[39;00m \u001b[38;5;21;01mintel_extension_for_pytorch\u001b[39;00m \u001b[38;5;28;01mas\u001b[39;00m \u001b[38;5;21;01mipex\u001b[39;00m\n\u001b[1;32m      3\u001b[0m \u001b[38;5;28;01mfrom\u001b[39;00m \u001b[38;5;21;01mintel_extension_for_pytorch\u001b[39;00m\u001b[38;5;21;01m.\u001b[39;00m\u001b[38;5;21;01mquantization\u001b[39;00m \u001b[38;5;28;01mimport\u001b[39;00m prepare\n",
      "\u001b[0;31mModuleNotFoundError\u001b[0m: No module named 'torch'"
     ]
    }
   ],
   "source": [
    "import torch\n",
    "import intel_extension_for_pytorch as ipex\n",
    "from intel_extension_for_pytorch.quantization import prepare\n",
    "import transformers\n",
    "from torch.utils.data import DataLoader, Dataset\n",
    "import torch.profiler as profiler\n",
    "\n",
    "# Dummy calibration dataset (replace with your actual dataset)\n",
    "class DummyDataset(Dataset):\n",
    "    def __init__(self, num_samples=10):\n",
    "        self.num_samples = num_samples\n",
    "\n",
    "    def __len__(self):\n",
    "        return self.num_samples\n",
    "\n",
    "    def __getitem__(self, idx):\n",
    "        return torch.randint(0, 50257, (128,), dtype=torch.long)  # Example input IDs\n",
    "\n",
    "# Load model (replace '...' with your model path)\n",
    "model = transformers.AutoModelForCausalLM.from_pretrained(\"gpt2\").eval()\n",
    "\n",
    "# Quantization with IPEX (using dummy calibration data)\n",
    "qconfig = ipex.quantization.get_smooth_quant_qconfig_mapping()\n",
    "\n",
    "# Stage 1: Calibration\n",
    "calib_dataset = DataLoader(DummyDataset())\n",
    "example_inputs = torch.randint(0, 50257, (1, 128), dtype=torch.long) #get one sample input from calib_samples\n",
    "calibration_model = ipex.llm.optimize(\n",
    "    model.eval(),\n",
    "    quantization_config=qconfig,\n",
    ")\n",
    "prepared_model = prepare(\n",
    "    calibration_model.eval(), qconfig, example_inputs=example_inputs, inplace=True\n",
    ")\n",
    "\n",
    "qconf_summary_file_path = \"qconf_summary.json\"\n",
    "\n",
    "with torch.no_grad():\n",
    "  for _, calib_samples in enumerate(calib_dataset):\n",
    "    prepared_model(calib_samples)\n",
    "prepared_model.save_qconf_summary(qconf_summary=qconf_summary_file_path)\n",
    "\n",
    "# Stage 2: Quantization\n",
    "model = ipex.llm.optimize(\n",
    "    model.eval(),\n",
    "    quantization_config=qconfig,\n",
    "    qconfig_summary=qconf_summary_file_path,\n",
    "    dtype=torch.int8, # added dtype\n",
    "    inplace=True, # added inplace\n",
    ")\n",
    "\n",
    "# Generation inference loop\n",
    "input_ids = torch.randint(0, 50257, (1, 128), dtype=torch.long)  # Example input\n",
    "\n",
    "with profiler.profile(\n",
    "    activities=[\n",
    "        profiler.ProfilerActivity.CPU,\n",
    "        # profiler.ProfilerActivity.CUDA  # Remove if not using CUDA\n",
    "    ],\n",
    "    schedule=profiler.schedule(wait=1, warmup=1, active=3, repeat=1),\n",
    "    on_trace_ready=profiler.tensorboard_trace_handler('./log/gpt2'),\n",
    "    record_shapes=True,\n",
    "    profile_memory=True,\n",
    "    with_stack=True\n",
    ") as prof:\n",
    "    with torch.inference_mode():\n",
    "        for _ in range(5):\n",
    "            model.generate(input_ids, max_length=158, num_beams=4)\n",
    "            prof.step()\n",
    "\n",
    "print(\"Profiling complete. Results saved to ./log/gpt2\")"
   ]
  },
  {
   "cell_type": "code",
   "execution_count": null,
   "metadata": {},
   "outputs": [],
   "source": []
  }
 ],
 "metadata": {
  "kernelspec": {
   "display_name": "Python 3",
   "language": "python",
   "name": "python3"
  },
  "language_info": {
   "codemirror_mode": {
    "name": "ipython",
    "version": 3
   },
   "file_extension": ".py",
   "mimetype": "text/x-python",
   "name": "python",
   "nbconvert_exporter": "python",
   "pygments_lexer": "ipython3",
   "version": "3.12.3"
  }
 },
 "nbformat": 4,
 "nbformat_minor": 2
}
